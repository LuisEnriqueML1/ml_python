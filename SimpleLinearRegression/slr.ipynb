{
 "cells": [
  {
   "cell_type": "markdown",
   "metadata": {},
   "source": [
    "# Regresión Lineal Simple\n",
    "  *Gujarati, D. N. (2010). Econometría (5ª ed.). México: McGraw-Hill Interamericana.* \n",
    "\n",
    "La metodología de la regresión lineal simple sigue los siguientes pasos:\n",
    "\n",
    "1. Planteamiento de la teoría o hipótesis\n",
    "2. Especificación del modelo matemático de la teoría\n",
    "3. Especificación del modelo econométrico o estadístico de la teoría\n",
    "4. Obtención de datos\n",
    "5. Estimación de los parámetros del modelo econométrico\n",
    "6. Pruebas de hipótesis\n",
    "7. Pronóstico\n",
    "8. Uso del modelo para fines de control o de políticas"
   ]
  },
  {
   "cell_type": "markdown",
   "metadata": {},
   "source": [
    "## 1. Planteamiento de la teoría o hipótesis\n",
    "\n",
    "John Maynard Keynes, el economista, plantea en su obra:\n",
    "\n",
    "> \"La ley psicológica fundamental...consiste en que los hombres, como regla general y en promedio, están dispuestos a incrementar su consumo a medida que aumenta su ingreso, pero no en la misma cuantía del aumento en su ingreso.\"\n",
    "\n",
    "En pocas palabras, Keynes sugiere que la propensión marginal a consumir (PMC) es mayor que cero pero menor que uno.\n",
    "\n",
    "## 2. Especificación del modelo matemático de la teoría\n",
    "\n",
    "A pesar de haber postulado una relación positiva entre el consumo y el ingreso, Keynes no especifica la forma precisa de la relación funcional entre ambos. Un economista matemático podría proponer la siguiente forma para la función de consumo keynesiana:\n",
    "\n",
    "$$\n",
    "Y = \\beta_1 + \\beta_2 X \\quad \\text{con} \\quad 0 < \\beta_2 < 1 \n",
    "$$\n",
    "\n",
    "donde:\n",
    "- \\( Y \\) es el gasto de consumo,\n",
    "- \\( X \\) es el ingreso,\n",
    "- \\( \\beta_1 \\) y \\( \\beta_2 \\) son los parámetros del modelo, representando el intercepto y la pendiente, respectivamente.\n",
    "\n",
    "El coeficiente de la pendiente \\( \\beta_2 \\) mide la PMC. Esta ecuación sugiere que el consumo está linealmente relacionado con el ingreso. Este es un ejemplo de un modelo uniecuacional, ya que tiene solo una ecuación.\n",
    "\n",
    "## 3. Especificación del modelo econométrico o estadístico de la teoría\n",
    "\n",
    "El modelo matemático de la ecuación anterior asume una relación exacta entre consumo e ingreso. Sin embargo, en la realidad, las relaciones entre variables económicas son inexactas. Para reflejar esto, se introduce un término de error o perturbación, \\( u \\), en la ecuación:\n",
    "\n",
    "$$\n",
    "Y = \\beta_1 + \\beta_2 X + u\n",
    "$$\n",
    "\n",
    "donde \\( u \\) es una variable aleatoria que representa factores no considerados explícitamente en el modelo."
   ]
  },
  {
   "cell_type": "markdown",
   "metadata": {},
   "source": [
    "## 4. Obtención de datos\n",
    "\n",
    "Para estimar los parámetros del modelo econométrico, necesitamos datos. Por ejemplo, los datos sobre el gasto de consumo personal (GCP) y el producto interno bruto (PIB) de Estados Unidos entre 1960 y 2005, medidos en miles de millones de dólares de 2000."
   ]
  },
  {
   "cell_type": "code",
   "execution_count": 53,
   "metadata": {},
   "outputs": [],
   "source": [
    "# Get data\n",
    "## Consumo \n",
    "import pandas as pd\n",
    "import world_bank_data as wb\n",
    "pd.set_option('display.max_rows', 6)\n",
    "c = wb.get_series(\"NE.CON.PRVT.CD\", id_or_value='id', simplify_index=False)\n",
    "c = c.reset_index(name = \"C\")\n",
    "\n",
    "\n",
    "## PIB \n",
    "pib = wb.get_series(\"NY.GDP.MKTP.CD\", id_or_value='id', simplify_index=False)\n",
    "pib = pib.reset_index(name = \"PIB\")\n",
    "\n"
   ]
  },
  {
   "cell_type": "markdown",
   "metadata": {},
   "source": [
    "### 4.1 Filtrar datos"
   ]
  },
  {
   "cell_type": "code",
   "execution_count": 58,
   "metadata": {},
   "outputs": [],
   "source": [
    "cmex = c[c[\"Country\"] == \"MEX\"]\n",
    "pibmex = pib[pib[\"Country\"] == \"MEX\"]"
   ]
  },
  {
   "cell_type": "markdown",
   "metadata": {},
   "source": [
    "### 4.2 Unir datos"
   ]
  },
  {
   "cell_type": "code",
   "execution_count": 63,
   "metadata": {},
   "outputs": [
    {
     "data": {
      "text/html": [
       "<div>\n",
       "<style scoped>\n",
       "    .dataframe tbody tr th:only-of-type {\n",
       "        vertical-align: middle;\n",
       "    }\n",
       "\n",
       "    .dataframe tbody tr th {\n",
       "        vertical-align: top;\n",
       "    }\n",
       "\n",
       "    .dataframe thead th {\n",
       "        text-align: right;\n",
       "    }\n",
       "</style>\n",
       "<table border=\"1\" class=\"dataframe\">\n",
       "  <thead>\n",
       "    <tr style=\"text-align: right;\">\n",
       "      <th></th>\n",
       "      <th>Year</th>\n",
       "      <th>C</th>\n",
       "      <th>PIB</th>\n",
       "    </tr>\n",
       "  </thead>\n",
       "  <tbody>\n",
       "    <tr>\n",
       "      <th>0</th>\n",
       "      <td>1960</td>\n",
       "      <td>1.006864e+10</td>\n",
       "      <td>1.304000e+10</td>\n",
       "    </tr>\n",
       "    <tr>\n",
       "      <th>1</th>\n",
       "      <td>1961</td>\n",
       "      <td>1.088552e+10</td>\n",
       "      <td>1.416000e+10</td>\n",
       "    </tr>\n",
       "    <tr>\n",
       "      <th>2</th>\n",
       "      <td>1962</td>\n",
       "      <td>1.172704e+10</td>\n",
       "      <td>1.520000e+10</td>\n",
       "    </tr>\n",
       "    <tr>\n",
       "      <th>...</th>\n",
       "      <td>...</td>\n",
       "      <td>...</td>\n",
       "      <td>...</td>\n",
       "    </tr>\n",
       "    <tr>\n",
       "      <th>7</th>\n",
       "      <td>1967</td>\n",
       "      <td>1.945720e+10</td>\n",
       "      <td>2.656000e+10</td>\n",
       "    </tr>\n",
       "    <tr>\n",
       "      <th>8</th>\n",
       "      <td>1968</td>\n",
       "      <td>2.175656e+10</td>\n",
       "      <td>2.936000e+10</td>\n",
       "    </tr>\n",
       "    <tr>\n",
       "      <th>9</th>\n",
       "      <td>1969</td>\n",
       "      <td>2.370496e+10</td>\n",
       "      <td>3.248000e+10</td>\n",
       "    </tr>\n",
       "  </tbody>\n",
       "</table>\n",
       "<p>10 rows × 3 columns</p>\n",
       "</div>"
      ],
      "text/plain": [
       "    Year             C           PIB\n",
       "0   1960  1.006864e+10  1.304000e+10\n",
       "1   1961  1.088552e+10  1.416000e+10\n",
       "2   1962  1.172704e+10  1.520000e+10\n",
       "..   ...           ...           ...\n",
       "7   1967  1.945720e+10  2.656000e+10\n",
       "8   1968  2.175656e+10  2.936000e+10\n",
       "9   1969  2.370496e+10  3.248000e+10\n",
       "\n",
       "[10 rows x 3 columns]"
      ]
     },
     "execution_count": 63,
     "metadata": {},
     "output_type": "execute_result"
    }
   ],
   "source": [
    "df = pd.merge(cmex, pibmex, on  = \"Year\")\n",
    "df = df[[\"Year\",\"C\",\"PIB\"]]\n",
    "df.head(10)"
   ]
  },
  {
   "cell_type": "markdown",
   "metadata": {},
   "source": [
    "\n",
    "\n",
    "## 5. Estimación de los parámetros del modelo econométrico\n",
    "\n",
    "Utilizando técnicas estadísticas como el análisis de regresión, podemos estimar los valores de \\( \\beta_1 \\) y \\( \\beta_2 \\). Supongamos que obtenemos los siguientes valores estimados:\n",
    "\n",
    "$$\n",
    "\\hat{Y} = -299.5913 + 0.7218 X\n",
    "$$\n",
    "\n",
    "donde \\( \\hat{Y} \\) es la estimación del gasto de consumo en función del ingreso."
   ]
  },
  {
   "cell_type": "code",
   "execution_count": 71,
   "metadata": {},
   "outputs": [],
   "source": [
    "from sklearn.model_selection import train_test_split\n",
    "from pandas.core.common import random_state\n",
    "from sklearn.linear_model import LinearRegression\n",
    "import numpy as np"
   ]
  },
  {
   "cell_type": "code",
   "execution_count": 79,
   "metadata": {},
   "outputs": [],
   "source": [
    "# Train and test\n",
    "x = df.iloc[:,-1].values\n",
    "X = x[:, None] \n",
    "y = df.iloc[:,-2].values\n",
    "X_train, X_test, y_train, y_test = train_test_split(X, y, test_size = 0.2, random_state = 0)"
   ]
  },
  {
   "cell_type": "code",
   "execution_count": 85,
   "metadata": {},
   "outputs": [],
   "source": [
    "# Regressor model\n",
    "regressor = LinearRegression()\n",
    "regressor.fit(X_train , y_train)\n",
    "y_pred = regressor.predict(X_test)     # predicted value of y_test\n",
    "y_pred_train = regressor.predict(X_train)"
   ]
  },
  {
   "cell_type": "code",
   "execution_count": 92,
   "metadata": {},
   "outputs": [
    {
     "data": {
      "text/plain": [
       "array([0.69597231])"
      ]
     },
     "execution_count": 92,
     "metadata": {},
     "output_type": "execute_result"
    }
   ],
   "source": [
    "regressor.coef_"
   ]
  },
  {
   "cell_type": "code",
   "execution_count": 89,
   "metadata": {},
   "outputs": [
    {
     "data": {
      "text/plain": [
       "Text(0, 0.5, 'Propensión marginal a consumir (c)')"
      ]
     },
     "execution_count": 89,
     "metadata": {},
     "output_type": "execute_result"
    },
    {
     "data": {
      "image/png": "[encoded data removed]",
      "text/plain": [
       "<Figure size 640x480 with 1 Axes>"
      ]
     },
     "metadata": {},
     "output_type": "display_data"
    }
   ],
   "source": [
    "import matplotlib.pyplot as plt\n",
    "plt.scatter(X_train, y_train, color = 'lightcoral')\n",
    "plt.plot(X_train, y_pred_train, color = 'firebrick')\n",
    "plt.title('Consumo Privado')\n",
    "plt.xlabel('Producto Interno Bruto')\n",
    "plt.ylabel('Propensión marginal a consumir (c)')"
   ]
  },
  {
   "cell_type": "markdown",
   "metadata": {},
   "source": [
    "\n",
    "## 6. Pruebas de hipótesis\n",
    "\n",
    "La estimación de \\( \\beta_2 \\), que es aproximadamente 0.72, debe ser evaluada estadísticamente para confirmar si es significativamente diferente de 1. Si lo es, apoya la teoría de Keynes de que la PMC es menor que uno.\n"
   ]
  },
  {
   "cell_type": "code",
   "execution_count": null,
   "metadata": {},
   "outputs": [],
   "source": []
  },
  {
   "cell_type": "markdown",
   "metadata": {},
   "source": [
    "\n",
    "## 7. Pronóstico\n",
    "\n",
    "Utilizando el modelo estimado, podemos prever valores futuros de la variable dependiente \\( Y \\) basados en valores conocidos o esperados de la variable explicativa \\( X \\). Por ejemplo, para predecir el gasto de consumo en 2006 con un PIB de 11,319.4 millones de dólares:\n",
    "\n",
    "$$\n",
    "\\hat{Y}_{2006} = -299.5913 + 0.7218 \\times 11,319.4 = 7,870.7516\n",
    "$$\n"
   ]
  },
  {
   "cell_type": "code",
   "execution_count": null,
   "metadata": {},
   "outputs": [],
   "source": []
  },
  {
   "cell_type": "markdown",
   "metadata": {},
   "source": [
    "\n",
    "## 8. Uso del modelo para fines de control o de políticas\n",
    "\n",
    "El modelo estimado puede servir para fines de control o políticas públicas. Por ejemplo, para mantener un nivel de gasto de 8,750 millones de dólares, podemos calcular el nivel de ingreso necesario utilizando la función de consumo estimada:\n",
    "\n",
    "$$\n",
    "8,750 = -299.5913 + 0.7218 \\times \\text{PIB}\n",
    "$$\n",
    "\n",
    "Resolviendo esta ecuación, encontramos el PIB necesario para alcanzar el gasto deseado.\n"
   ]
  }
 ],
 "metadata": {
  "kernelspec": {
   "display_name": "Python 3",
   "language": "python",
   "name": "python3"
  },
  "language_info": {
   "codemirror_mode": {
    "name": "ipython",
    "version": 3
   },
   "file_extension": ".py",
   "mimetype": "text/x-python",
   "name": "python",
   "nbconvert_exporter": "python",
   "pygments_lexer": "ipython3",
   "version": "3.12.3"
  }
 },
 "nbformat": 4,
 "nbformat_minor": 2
}
